{
  "nbformat": 4,
  "nbformat_minor": 0,
  "metadata": {
    "kernelspec": {
      "display_name": "Python 3",
      "language": "python",
      "name": "python3"
    },
    "language_info": {
      "codemirror_mode": {
        "name": "ipython",
        "version": 3
      },
      "file_extension": ".py",
      "mimetype": "text/x-python",
      "name": "python",
      "nbconvert_exporter": "python",
      "pygments_lexer": "ipython3",
      "version": "3.7.3"
    },
    "colab": {
      "name": "intro_planejamento_experimentos.ipynb",
      "provenance": []
    }
  },
  "cells": [
    {
      "cell_type": "markdown",
      "metadata": {
        "id": "4uE5t0PKI31n"
      },
      "source": [
        "<h1 style='color: blue; font-size: 34px; font-weight: bold;'> Planejamento de Experimentos \n",
        "</h1>\n"
      ]
    },
    {
      "cell_type": "code",
      "metadata": {
        "id": "o-oWxSjZT9rg",
        "outputId": "794b0eb3-9b2f-4e49-f4e3-5cec33db218b",
        "colab": {
          "base_uri": "https://localhost:8080/"
        }
      },
      "source": [
        "!pip install pyDOE2"
      ],
      "execution_count": 6,
      "outputs": [
        {
          "output_type": "stream",
          "text": [
            "Requirement already satisfied: pyDOE2 in /usr/local/lib/python3.6/dist-packages (1.3.0)\n",
            "Requirement already satisfied: numpy in /usr/local/lib/python3.6/dist-packages (from pyDOE2) (1.19.4)\n",
            "Requirement already satisfied: scipy in /usr/local/lib/python3.6/dist-packages (from pyDOE2) (1.4.1)\n"
          ],
          "name": "stdout"
        }
      ]
    },
    {
      "cell_type": "markdown",
      "metadata": {
        "id": "D2GlbbCYI31u"
      },
      "source": [
        "### Introdução \n",
        "\n",
        " “Chamar um especialista em estatística depois que o experimento foi feito pode ser o mesmo que pedir para ele fazer um exame post-mortem. Talvez ele consiga dizer do que foi que o experimento morreu.”  "
      ]
    },
    {
      "cell_type": "code",
      "metadata": {
        "id": "P1gP9Fz0I310"
      },
      "source": [
        "import pandas as pd \r\n",
        "import numpy as np"
      ],
      "execution_count": 7,
      "outputs": []
    },
    {
      "cell_type": "markdown",
      "metadata": {
        "id": "cjW8AxOyI312"
      },
      "source": [
        "Ensaios realizados de forma normalizada\n",
        "\n",
        "Construindo uma matriz representando todos os ensaios realizados:"
      ]
    },
    {
      "cell_type": "code",
      "metadata": {
        "id": "7sAx6bD-I312"
      },
      "source": [
        "ensaios = np.array([[-1,-1], [1,-1], [-1,1], [1,1]])"
      ],
      "execution_count": 8,
      "outputs": []
    },
    {
      "cell_type": "markdown",
      "metadata": {
        "id": "2oxRKRrDI313"
      },
      "source": [
        "## Costruindo um planejamento fatorial de 2²\n"
      ]
    },
    {
      "cell_type": "code",
      "metadata": {
        "id": "OEOfk_8fI314",
        "outputId": "c52fe197-96e3-4c09-c98d-918a7d689c27",
        "colab": {
          "base_uri": "https://localhost:8080/"
        }
      },
      "source": [
        "import pyDOE2 as doe\r\n",
        "\r\n",
        "ensaios  = doe.ff2n(2)\r\n",
        "ensaios"
      ],
      "execution_count": 9,
      "outputs": [
        {
          "output_type": "execute_result",
          "data": {
            "text/plain": [
              "array([[-1., -1.],\n",
              "       [ 1., -1.],\n",
              "       [-1.,  1.],\n",
              "       [ 1.,  1.]])"
            ]
          },
          "metadata": {
            "tags": []
          },
          "execution_count": 9
        }
      ]
    },
    {
      "cell_type": "markdown",
      "metadata": {
        "id": "xHC9HMopI315"
      },
      "source": [
        "## Incerindo o planejamento em um Data Frame"
      ]
    },
    {
      "cell_type": "code",
      "metadata": {
        "id": "CvQtSdIVI315",
        "outputId": "61081a88-7045-40f8-b850-b394b8ca9a0b",
        "colab": {
          "base_uri": "https://localhost:8080/",
          "height": 162
        }
      },
      "source": [
        "experimento = pd.DataFrame(ensaios, columns = ['Farinha','Chocolate'])\r\n",
        "experimento"
      ],
      "execution_count": 10,
      "outputs": [
        {
          "output_type": "execute_result",
          "data": {
            "text/html": [
              "<div>\n",
              "<style scoped>\n",
              "    .dataframe tbody tr th:only-of-type {\n",
              "        vertical-align: middle;\n",
              "    }\n",
              "\n",
              "    .dataframe tbody tr th {\n",
              "        vertical-align: top;\n",
              "    }\n",
              "\n",
              "    .dataframe thead th {\n",
              "        text-align: right;\n",
              "    }\n",
              "</style>\n",
              "<table border=\"1\" class=\"dataframe\">\n",
              "  <thead>\n",
              "    <tr style=\"text-align: right;\">\n",
              "      <th></th>\n",
              "      <th>Farinha</th>\n",
              "      <th>Chocolate</th>\n",
              "    </tr>\n",
              "  </thead>\n",
              "  <tbody>\n",
              "    <tr>\n",
              "      <th>0</th>\n",
              "      <td>-1.0</td>\n",
              "      <td>-1.0</td>\n",
              "    </tr>\n",
              "    <tr>\n",
              "      <th>1</th>\n",
              "      <td>1.0</td>\n",
              "      <td>-1.0</td>\n",
              "    </tr>\n",
              "    <tr>\n",
              "      <th>2</th>\n",
              "      <td>-1.0</td>\n",
              "      <td>1.0</td>\n",
              "    </tr>\n",
              "    <tr>\n",
              "      <th>3</th>\n",
              "      <td>1.0</td>\n",
              "      <td>1.0</td>\n",
              "    </tr>\n",
              "  </tbody>\n",
              "</table>\n",
              "</div>"
            ],
            "text/plain": [
              "   Farinha  Chocolate\n",
              "0     -1.0       -1.0\n",
              "1      1.0       -1.0\n",
              "2     -1.0        1.0\n",
              "3      1.0        1.0"
            ]
          },
          "metadata": {
            "tags": []
          },
          "execution_count": 10
        }
      ]
    },
    {
      "cell_type": "markdown",
      "metadata": {
        "id": "ll9Ht1YcI316"
      },
      "source": [
        "### Inserindo coluna com os resultados "
      ]
    },
    {
      "cell_type": "code",
      "metadata": {
        "id": "NocR1V5LI316",
        "outputId": "eaff7aaa-33f0-4826-e5b1-5d9d026768dd",
        "colab": {
          "base_uri": "https://localhost:8080/",
          "height": 162
        }
      },
      "source": [
        "experimento['Porcoes'] = [19,37,24,49]\r\n",
        "experimento"
      ],
      "execution_count": 11,
      "outputs": [
        {
          "output_type": "execute_result",
          "data": {
            "text/html": [
              "<div>\n",
              "<style scoped>\n",
              "    .dataframe tbody tr th:only-of-type {\n",
              "        vertical-align: middle;\n",
              "    }\n",
              "\n",
              "    .dataframe tbody tr th {\n",
              "        vertical-align: top;\n",
              "    }\n",
              "\n",
              "    .dataframe thead th {\n",
              "        text-align: right;\n",
              "    }\n",
              "</style>\n",
              "<table border=\"1\" class=\"dataframe\">\n",
              "  <thead>\n",
              "    <tr style=\"text-align: right;\">\n",
              "      <th></th>\n",
              "      <th>Farinha</th>\n",
              "      <th>Chocolate</th>\n",
              "      <th>Porcoes</th>\n",
              "    </tr>\n",
              "  </thead>\n",
              "  <tbody>\n",
              "    <tr>\n",
              "      <th>0</th>\n",
              "      <td>-1.0</td>\n",
              "      <td>-1.0</td>\n",
              "      <td>19</td>\n",
              "    </tr>\n",
              "    <tr>\n",
              "      <th>1</th>\n",
              "      <td>1.0</td>\n",
              "      <td>-1.0</td>\n",
              "      <td>37</td>\n",
              "    </tr>\n",
              "    <tr>\n",
              "      <th>2</th>\n",
              "      <td>-1.0</td>\n",
              "      <td>1.0</td>\n",
              "      <td>24</td>\n",
              "    </tr>\n",
              "    <tr>\n",
              "      <th>3</th>\n",
              "      <td>1.0</td>\n",
              "      <td>1.0</td>\n",
              "      <td>49</td>\n",
              "    </tr>\n",
              "  </tbody>\n",
              "</table>\n",
              "</div>"
            ],
            "text/plain": [
              "   Farinha  Chocolate  Porcoes\n",
              "0     -1.0       -1.0       19\n",
              "1      1.0       -1.0       37\n",
              "2     -1.0        1.0       24\n",
              "3      1.0        1.0       49"
            ]
          },
          "metadata": {
            "tags": []
          },
          "execution_count": 11
        }
      ]
    },
    {
      "cell_type": "markdown",
      "metadata": {
        "id": "rbjpiTDPI317"
      },
      "source": [
        "Conclusão: Temos, por fim, nosso experimento representado por um DataFrame do Pandas. Usaremos este <i>DataFrame</i> para iniciarmos a análise do nosso experimento. "
      ]
    },
    {
      "cell_type": "markdown",
      "metadata": {
        "id": "AsU4UgiUI317"
      },
      "source": [
        "### Analisando graficamente o experimento"
      ]
    },
    {
      "cell_type": "code",
      "metadata": {
        "id": "VR3AMFv_I318"
      },
      "source": [
        "import seaborn as sns\n",
        "# paletas -> Accent, Accent_r, Blues, Blues_r, BrBG, BrBG_r, BuGn, BuGn_r, BuPu, BuPu_r, CMRmap, CMRmap_r, Dark2, Dark2_r, GnBu, GnBu_r, Greens, Greens_r, Greys, Greys_r, OrRd, OrRd_r, Oranges, Oranges_r, PRGn, PRGn_r, Paired, Paired_r, Pastel1, Pastel1_r, Pastel2, Pastel2_r, PiYG, PiYG_r, PuBu, PuBuGn, PuBuGn_r, PuBu_r, PuOr, PuOr_r, PuRd, PuRd_r, Purples, Purples_r, RdBu, RdBu_r, RdGy, RdGy_r, RdPu, RdPu_r, RdYlBu, RdYlBu_r, RdYlGn, RdYlGn_r, Reds, Reds_r, Set1, Set1_r, Set2, Set2_r, Set3, Set3_r, Spectral, Spectral_r, Wistia, Wistia_r, YlGn, YlGnBu, YlGnBu_r, YlGn_r, YlOrBr, YlOrBr_r, YlOrRd, YlOrRd_r, afmhot, afmhot_r, autumn, autumn_r, binary, binary_r, bone, bone_r, brg, brg_r, bwr, bwr_r, cividis, cividis_r, cool, cool_r, coolwarm, coolwarm_r, copper, copper_r, cubehelix, cubehelix_r, flag, flag_r, gist_earth, gist_earth_r, gist_gray, gist_gray_r, gist_heat, gist_heat_r, gist_ncar, gist_ncar_r, gist_rainbow, gist_rainbow_r, gist_stern, gist_stern_r, gist_yarg, gist_yarg_r, gnuplot, gnuplot2, gnuplot2_r, gnuplot_r, gray, gray_r, hot, hot_r, hsv, hsv_r, icefire, icefire_r, inferno, inferno_r, jet, jet_r, magma, magma_r, mako, mako_r, nipy_spectral, nipy_spectral_r, ocean, ocean_r, pink, pink_r, plasma, plasma_r, prism, prism_r, rainbow, rainbow_r, rocket, rocket_r, seismic, seismic_r, spring, spring_r, summer, summer_r, tab10, tab10_r, tab20, tab20_r, tab20b, tab20b_r, tab20c, tab20c_r, terrain, terrain_r, viridis, viridis_r, vlag, vlag_r, winter, winter_r\n",
        "sns.set_palette('terrain')\n",
        "\n",
        "# estilo -> white, dark, whitegrid, darkgrid, ticks\n",
        "sns.set_style('darkgrid')\n"
      ],
      "execution_count": 12,
      "outputs": []
    },
    {
      "cell_type": "markdown",
      "metadata": {
        "id": "Su6VGcOoI319"
      },
      "source": [
        "### Para a farinha"
      ]
    },
    {
      "cell_type": "code",
      "metadata": {
        "id": "p-gkA8sBI319",
        "outputId": "c01d3eec-30b9-40bc-b9c9-2ae4e13d7bae",
        "colab": {
          "base_uri": "https://localhost:8080/",
          "height": 398
        }
      },
      "source": [
        "ax1 = sns.lmplot(data = experimento, x = 'Farinha', y = 'Porcoes', ci = None, hue = 'Chocolate')\n",
        "\n",
        "ax1.set(xticks = (-1,1))"
      ],
      "execution_count": 13,
      "outputs": [
        {
          "output_type": "execute_result",
          "data": {
            "text/plain": [
              "<seaborn.axisgrid.FacetGrid at 0x7fb560c89240>"
            ]
          },
          "metadata": {
            "tags": []
          },
          "execution_count": 13
        },
        {
          "output_type": "display_data",
          "data": {
            "image/png": "[encoded data removed]",
            "text/plain": [
              "<Figure size 417.75x360 with 1 Axes>"
            ]
          },
          "metadata": {
            "tags": []
          }
        }
      ]
    },
    {
      "cell_type": "markdown",
      "metadata": {
        "id": "E51CQxNuI31-"
      },
      "source": [
        "### Para o chocolate"
      ]
    },
    {
      "cell_type": "code",
      "metadata": {
        "id": "-jAbFlDOI31_",
        "outputId": "4a80aae6-814d-491d-a769-633a113e6a61",
        "colab": {
          "base_uri": "https://localhost:8080/",
          "height": 398
        }
      },
      "source": [
        "ax2 = sns.lmplot(data = experimento, x = 'Chocolate', y = 'Porcoes', ci = None, hue = 'Farinha')\n",
        "\n",
        "ax2.set(xticks = (-1,1))"
      ],
      "execution_count": 14,
      "outputs": [
        {
          "output_type": "execute_result",
          "data": {
            "text/plain": [
              "<seaborn.axisgrid.FacetGrid at 0x7fb55e0a6908>"
            ]
          },
          "metadata": {
            "tags": []
          },
          "execution_count": 14
        },
        {
          "output_type": "display_data",
          "data": {
            "image/png": "[encoded data removed]",
            "text/plain": [
              "<Figure size 415.5x360 with 1 Axes>"
            ]
          },
          "metadata": {
            "tags": []
          }
        }
      ]
    },
    {
      "cell_type": "markdown",
      "metadata": {
        "id": "uilaCORRI31_"
      },
      "source": [
        "### Ajustando o modelo estatístico"
      ]
    },
    {
      "cell_type": "code",
      "metadata": {
        "id": "PTcrYPTGI32B",
        "outputId": "b1d7dc22-c4e8-43ba-c9b6-0fe24e99441b",
        "colab": {
          "base_uri": "https://localhost:8080/"
        }
      },
      "source": [
        "import statsmodels.api as sm \r\n",
        "import statsmodels.formula.api as smf\r\n",
        "\r\n",
        "modelo = smf.ols(data = experimento, formula = 'Porcoes ~ Farinha + Chocolate + Farinha:Chocolate')"
      ],
      "execution_count": 15,
      "outputs": [
        {
          "output_type": "stream",
          "text": [
            "/usr/local/lib/python3.6/dist-packages/statsmodels/tools/_testing.py:19: FutureWarning: pandas.util.testing is deprecated. Use the functions in the public API at pandas.testing instead.\n",
            "  import pandas.util.testing as tm\n"
          ],
          "name": "stderr"
        }
      ]
    },
    {
      "cell_type": "code",
      "metadata": {
        "id": "UAEIF5DNI32C"
      },
      "source": [
        "modelo_ajustado = modelo.fit()"
      ],
      "execution_count": 16,
      "outputs": []
    },
    {
      "cell_type": "code",
      "metadata": {
        "id": "HDeldYrmI32D",
        "outputId": "220939fb-7177-4ed2-8a5d-587adb25fff8",
        "colab": {
          "base_uri": "https://localhost:8080/"
        }
      },
      "source": [
        "print(modelo_ajustado.summary() )"
      ],
      "execution_count": 17,
      "outputs": [
        {
          "output_type": "stream",
          "text": [
            "                            OLS Regression Results                            \n",
            "==============================================================================\n",
            "Dep. Variable:                Porcoes   R-squared:                       1.000\n",
            "Model:                            OLS   Adj. R-squared:                    nan\n",
            "Method:                 Least Squares   F-statistic:                       nan\n",
            "Date:                Sun, 10 Jan 2021   Prob (F-statistic):                nan\n",
            "Time:                        17:20:15   Log-Likelihood:                    inf\n",
            "No. Observations:                   4   AIC:                              -inf\n",
            "Df Residuals:                       0   BIC:                              -inf\n",
            "Df Model:                           3                                         \n",
            "Covariance Type:            nonrobust                                         \n",
            "=====================================================================================\n",
            "                        coef    std err          t      P>|t|      [0.025      0.975]\n",
            "-------------------------------------------------------------------------------------\n",
            "Intercept            32.2500        nan        nan        nan         nan         nan\n",
            "Farinha              10.7500        nan        nan        nan         nan         nan\n",
            "Chocolate             4.2500        nan        nan        nan         nan         nan\n",
            "Farinha:Chocolate     1.7500        nan        nan        nan         nan         nan\n",
            "==============================================================================\n",
            "Omnibus:                          nan   Durbin-Watson:                     nan\n",
            "Prob(Omnibus):                    nan   Jarque-Bera (JB):                1.500\n",
            "Skew:                           0.000   Prob(JB):                        0.472\n",
            "Kurtosis:                       0.000   Cond. No.                         1.00\n",
            "==============================================================================\n",
            "\n",
            "Warnings:\n",
            "[1] Standard Errors assume that the covariance matrix of the errors is correctly specified.\n"
          ],
          "name": "stdout"
        },
        {
          "output_type": "stream",
          "text": [
            "/usr/local/lib/python3.6/dist-packages/statsmodels/stats/stattools.py:71: ValueWarning: omni_normtest is not valid with less than 8 observations; 4 samples were given.\n",
            "  \"samples were given.\" % int(n), ValueWarning)\n",
            "/usr/local/lib/python3.6/dist-packages/statsmodels/regression/linear_model.py:1648: RuntimeWarning: divide by zero encountered in true_divide\n",
            "  return 1 - (np.divide(self.nobs - self.k_constant, self.df_resid)\n",
            "/usr/local/lib/python3.6/dist-packages/statsmodels/regression/linear_model.py:1649: RuntimeWarning: invalid value encountered in double_scalars\n",
            "  * (1 - self.rsquared))\n",
            "/usr/local/lib/python3.6/dist-packages/statsmodels/regression/linear_model.py:1665: RuntimeWarning: invalid value encountered in double_scalars\n",
            "  return self.ssr/self.df_resid\n",
            "/usr/local/lib/python3.6/dist-packages/statsmodels/regression/linear_model.py:867: RuntimeWarning: divide by zero encountered in log\n",
            "  llf = -nobs2*np.log(2*np.pi) - nobs2*np.log(ssr / nobs) - nobs2\n",
            "/usr/local/lib/python3.6/dist-packages/statsmodels/stats/stattools.py:46: RuntimeWarning: invalid value encountered in double_scalars\n",
            "  dw = np.sum(diff_resids**2, axis=axis) / np.sum(resids**2, axis=axis)\n",
            "/usr/local/lib/python3.6/dist-packages/statsmodels/regression/linear_model.py:1578: RuntimeWarning: invalid value encountered in double_scalars\n",
            "  return np.dot(wresid, wresid) / self.df_resid\n"
          ],
          "name": "stderr"
        }
      ]
    },
    {
      "cell_type": "markdown",
      "metadata": {
        "id": "lYeXApF9I32E"
      },
      "source": [
        "### Aumentando os Graus de liberdade"
      ]
    },
    {
      "cell_type": "code",
      "metadata": {
        "id": "eMzY4nIzI32F"
      },
      "source": [
        "centro = np.array([ [0,0,29],\n",
        "                    [0,0,30],\n",
        "                    [0,0,29],\n",
        "                    [0,0,30],])"
      ],
      "execution_count": 18,
      "outputs": []
    },
    {
      "cell_type": "code",
      "metadata": {
        "id": "lfkdbl36I32F",
        "outputId": "5588cb91-3167-40de-bff0-fc6cd7331e8c",
        "colab": {
          "base_uri": "https://localhost:8080/",
          "height": 162
        }
      },
      "source": [
        "centro_dataframe = pd.DataFrame(centro, columns = ['Farinha', 'Chocolate','Porcoes'], index = [4,5,6,7])\r\n",
        "centro_dataframe"
      ],
      "execution_count": 19,
      "outputs": [
        {
          "output_type": "execute_result",
          "data": {
            "text/html": [
              "<div>\n",
              "<style scoped>\n",
              "    .dataframe tbody tr th:only-of-type {\n",
              "        vertical-align: middle;\n",
              "    }\n",
              "\n",
              "    .dataframe tbody tr th {\n",
              "        vertical-align: top;\n",
              "    }\n",
              "\n",
              "    .dataframe thead th {\n",
              "        text-align: right;\n",
              "    }\n",
              "</style>\n",
              "<table border=\"1\" class=\"dataframe\">\n",
              "  <thead>\n",
              "    <tr style=\"text-align: right;\">\n",
              "      <th></th>\n",
              "      <th>Farinha</th>\n",
              "      <th>Chocolate</th>\n",
              "      <th>Porcoes</th>\n",
              "    </tr>\n",
              "  </thead>\n",
              "  <tbody>\n",
              "    <tr>\n",
              "      <th>4</th>\n",
              "      <td>0</td>\n",
              "      <td>0</td>\n",
              "      <td>29</td>\n",
              "    </tr>\n",
              "    <tr>\n",
              "      <th>5</th>\n",
              "      <td>0</td>\n",
              "      <td>0</td>\n",
              "      <td>30</td>\n",
              "    </tr>\n",
              "    <tr>\n",
              "      <th>6</th>\n",
              "      <td>0</td>\n",
              "      <td>0</td>\n",
              "      <td>29</td>\n",
              "    </tr>\n",
              "    <tr>\n",
              "      <th>7</th>\n",
              "      <td>0</td>\n",
              "      <td>0</td>\n",
              "      <td>30</td>\n",
              "    </tr>\n",
              "  </tbody>\n",
              "</table>\n",
              "</div>"
            ],
            "text/plain": [
              "   Farinha  Chocolate  Porcoes\n",
              "4        0          0       29\n",
              "5        0          0       30\n",
              "6        0          0       29\n",
              "7        0          0       30"
            ]
          },
          "metadata": {
            "tags": []
          },
          "execution_count": 19
        }
      ]
    },
    {
      "cell_type": "markdown",
      "metadata": {
        "id": "VkMH1D6bI32G"
      },
      "source": [
        "### ."
      ]
    },
    {
      "cell_type": "code",
      "metadata": {
        "id": "yHCaVlr4I32G",
        "outputId": "24241d3b-992c-4af5-9d12-3b32a213e7a9",
        "colab": {
          "base_uri": "https://localhost:8080/",
          "height": 277
        }
      },
      "source": [
        "experimento = experimento.append(centro_dataframe)\r\n",
        "experimento"
      ],
      "execution_count": 20,
      "outputs": [
        {
          "output_type": "execute_result",
          "data": {
            "text/html": [
              "<div>\n",
              "<style scoped>\n",
              "    .dataframe tbody tr th:only-of-type {\n",
              "        vertical-align: middle;\n",
              "    }\n",
              "\n",
              "    .dataframe tbody tr th {\n",
              "        vertical-align: top;\n",
              "    }\n",
              "\n",
              "    .dataframe thead th {\n",
              "        text-align: right;\n",
              "    }\n",
              "</style>\n",
              "<table border=\"1\" class=\"dataframe\">\n",
              "  <thead>\n",
              "    <tr style=\"text-align: right;\">\n",
              "      <th></th>\n",
              "      <th>Farinha</th>\n",
              "      <th>Chocolate</th>\n",
              "      <th>Porcoes</th>\n",
              "    </tr>\n",
              "  </thead>\n",
              "  <tbody>\n",
              "    <tr>\n",
              "      <th>0</th>\n",
              "      <td>-1.0</td>\n",
              "      <td>-1.0</td>\n",
              "      <td>19</td>\n",
              "    </tr>\n",
              "    <tr>\n",
              "      <th>1</th>\n",
              "      <td>1.0</td>\n",
              "      <td>-1.0</td>\n",
              "      <td>37</td>\n",
              "    </tr>\n",
              "    <tr>\n",
              "      <th>2</th>\n",
              "      <td>-1.0</td>\n",
              "      <td>1.0</td>\n",
              "      <td>24</td>\n",
              "    </tr>\n",
              "    <tr>\n",
              "      <th>3</th>\n",
              "      <td>1.0</td>\n",
              "      <td>1.0</td>\n",
              "      <td>49</td>\n",
              "    </tr>\n",
              "    <tr>\n",
              "      <th>4</th>\n",
              "      <td>0.0</td>\n",
              "      <td>0.0</td>\n",
              "      <td>29</td>\n",
              "    </tr>\n",
              "    <tr>\n",
              "      <th>5</th>\n",
              "      <td>0.0</td>\n",
              "      <td>0.0</td>\n",
              "      <td>30</td>\n",
              "    </tr>\n",
              "    <tr>\n",
              "      <th>6</th>\n",
              "      <td>0.0</td>\n",
              "      <td>0.0</td>\n",
              "      <td>29</td>\n",
              "    </tr>\n",
              "    <tr>\n",
              "      <th>7</th>\n",
              "      <td>0.0</td>\n",
              "      <td>0.0</td>\n",
              "      <td>30</td>\n",
              "    </tr>\n",
              "  </tbody>\n",
              "</table>\n",
              "</div>"
            ],
            "text/plain": [
              "   Farinha  Chocolate  Porcoes\n",
              "0     -1.0       -1.0       19\n",
              "1      1.0       -1.0       37\n",
              "2     -1.0        1.0       24\n",
              "3      1.0        1.0       49\n",
              "4      0.0        0.0       29\n",
              "5      0.0        0.0       30\n",
              "6      0.0        0.0       29\n",
              "7      0.0        0.0       30"
            ]
          },
          "metadata": {
            "tags": []
          },
          "execution_count": 20
        }
      ]
    },
    {
      "cell_type": "markdown",
      "metadata": {
        "id": "0DOP2GzjI32I"
      },
      "source": [
        "Análise de significância estatística"
      ]
    },
    {
      "cell_type": "code",
      "metadata": {
        "id": "Jkxdh861I32I"
      },
      "source": [
        "modelo = smf.ols(data = experimento, formula = 'Porcoes ~ Farinha + Chocolate + Farinha:Chocolate')"
      ],
      "execution_count": 21,
      "outputs": []
    },
    {
      "cell_type": "code",
      "metadata": {
        "id": "Y2eA4EOGI32I"
      },
      "source": [
        "modelo_ajustado = modelo.fit()"
      ],
      "execution_count": 22,
      "outputs": []
    },
    {
      "cell_type": "code",
      "metadata": {
        "id": "BMQ3celWI32J",
        "outputId": "367ddc67-0ef5-45bb-e8cb-0c045bc81f35",
        "colab": {
          "base_uri": "https://localhost:8080/"
        }
      },
      "source": [
        "print(modelo_ajustado.summary())"
      ],
      "execution_count": 23,
      "outputs": [
        {
          "output_type": "stream",
          "text": [
            "                            OLS Regression Results                            \n",
            "==============================================================================\n",
            "Dep. Variable:                Porcoes   R-squared:                       0.971\n",
            "Model:                            OLS   Adj. R-squared:                  0.950\n",
            "Method:                 Least Squares   F-statistic:                     45.21\n",
            "Date:                Sun, 10 Jan 2021   Prob (F-statistic):            0.00152\n",
            "Time:                        17:20:15   Log-Likelihood:                -14.155\n",
            "No. Observations:                   8   AIC:                             36.31\n",
            "Df Residuals:                       4   BIC:                             36.63\n",
            "Df Model:                           3                                         \n",
            "Covariance Type:            nonrobust                                         \n",
            "=====================================================================================\n",
            "                        coef    std err          t      P>|t|      [0.025      0.975]\n",
            "-------------------------------------------------------------------------------------\n",
            "Intercept            30.8750      0.710     43.494      0.000      28.904      32.846\n",
            "Farinha              10.7500      1.004     10.708      0.000       7.963      13.537\n",
            "Chocolate             4.2500      1.004      4.233      0.013       1.463       7.037\n",
            "Farinha:Chocolate     1.7500      1.004      1.743      0.156      -1.037       4.537\n",
            "==============================================================================\n",
            "Omnibus:                        4.655   Durbin-Watson:                   0.841\n",
            "Prob(Omnibus):                  0.098   Jarque-Bera (JB):                1.080\n",
            "Skew:                          -0.180   Prob(JB):                        0.583\n",
            "Kurtosis:                       1.237   Cond. No.                         1.41\n",
            "==============================================================================\n",
            "\n",
            "Warnings:\n",
            "[1] Standard Errors assume that the covariance matrix of the errors is correctly specified.\n"
          ],
          "name": "stdout"
        },
        {
          "output_type": "stream",
          "text": [
            "/usr/local/lib/python3.6/dist-packages/scipy/stats/stats.py:1535: UserWarning: kurtosistest only valid for n>=20 ... continuing anyway, n=8\n",
            "  \"anyway, n=%i\" % int(n))\n"
          ],
          "name": "stderr"
        }
      ]
    },
    {
      "cell_type": "markdown",
      "metadata": {
        "id": "e-LAhgMNI32J"
      },
      "source": [
        "Teste de significância estatística usando o t"
      ]
    },
    {
      "cell_type": "code",
      "metadata": {
        "id": "kALOSSQsI32K",
        "outputId": "c02ad6fc-b3c1-439f-d0d3-e9140de179cb",
        "colab": {
          "base_uri": "https://localhost:8080/"
        }
      },
      "source": [
        "t_valores = modelo_ajustado.tvalues\r\n",
        "t_valores"
      ],
      "execution_count": 24,
      "outputs": [
        {
          "output_type": "execute_result",
          "data": {
            "text/plain": [
              "Intercept            43.494275\n",
              "Farinha              10.708252\n",
              "Chocolate             4.233495\n",
              "Farinha:Chocolate     1.743204\n",
              "dtype: float64"
            ]
          },
          "metadata": {
            "tags": []
          },
          "execution_count": 24
        }
      ]
    },
    {
      "cell_type": "code",
      "metadata": {
        "id": "KiXlAP2hI32L"
      },
      "source": [
        "nome= t_valores.index.tolist()"
      ],
      "execution_count": 25,
      "outputs": []
    },
    {
      "cell_type": "code",
      "metadata": {
        "id": "j8slzad_I32M",
        "outputId": "f61ab310-7ce1-4723-dfda-e22d0ea62db7",
        "colab": {
          "base_uri": "https://localhost:8080/"
        }
      },
      "source": [
        "nome"
      ],
      "execution_count": 26,
      "outputs": [
        {
          "output_type": "execute_result",
          "data": {
            "text/plain": [
              "['Intercept', 'Farinha', 'Chocolate', 'Farinha:Chocolate']"
            ]
          },
          "metadata": {
            "tags": []
          },
          "execution_count": 26
        }
      ]
    },
    {
      "cell_type": "code",
      "metadata": {
        "id": "Iq_3ABYGI32Q",
        "outputId": "c6ca15fa-4c9f-435a-a6c7-741023997a8e",
        "colab": {
          "base_uri": "https://localhost:8080/"
        }
      },
      "source": [
        "from scipy import stats\r\n",
        "\r\n",
        "distribuicao  = stats.t(df = 4)\r\n",
        "distribuicao.ppf(q = 1 - 0.025)"
      ],
      "execution_count": 27,
      "outputs": [
        {
          "output_type": "execute_result",
          "data": {
            "text/plain": [
              "2.7764451051977987"
            ]
          },
          "metadata": {
            "tags": []
          },
          "execution_count": 27
        }
      ]
    },
    {
      "cell_type": "code",
      "metadata": {
        "id": "LXjT6pMvI32R",
        "outputId": "0fa7f495-2fb7-4dac-cbcd-9b6353dbaea9",
        "colab": {
          "base_uri": "https://localhost:8080/"
        }
      },
      "source": [
        "limite = [distribuicao.ppf(q = 1 -0.025  )]*len(nome)\r\n",
        "limite"
      ],
      "execution_count": 28,
      "outputs": [
        {
          "output_type": "execute_result",
          "data": {
            "text/plain": [
              "[2.7764451051977987,\n",
              " 2.7764451051977987,\n",
              " 2.7764451051977987,\n",
              " 2.7764451051977987]"
            ]
          },
          "metadata": {
            "tags": []
          },
          "execution_count": 28
        }
      ]
    },
    {
      "cell_type": "markdown",
      "metadata": {
        "id": "nUb4zk29I32R"
      },
      "source": [
        "### Plotando o gráfico "
      ]
    },
    {
      "cell_type": "code",
      "metadata": {
        "id": "TrQanocTI32S",
        "outputId": "c8b8b95c-9a40-4a72-a17d-a7e88b82dfb7",
        "colab": {
          "base_uri": "https://localhost:8080/",
          "height": 422
        }
      },
      "source": [
        "pareto = sns.barplot(x = t_valores, y = nome )\n",
        "\n",
        "pareto.figure.set_size_inches(15,6)\n",
        "\n",
        "pareto.tick_params(labelsize = 20)\n",
        "\n",
        "pareto.set_xlabel('t-valores', fontsize = 20)\n",
        "\n",
        "\n",
        "pareto.plot(limite, nome, 'r')\n",
        "\n"
      ],
      "execution_count": 29,
      "outputs": [
        {
          "output_type": "execute_result",
          "data": {
            "text/plain": [
              "[<matplotlib.lines.Line2D at 0x7fb552c2af98>]"
            ]
          },
          "metadata": {
            "tags": []
          },
          "execution_count": 29
        },
        {
          "output_type": "display_data",
          "data": {
            "image/png": "[encoded data removed]",
            "text/plain": [
              "<Figure size 1080x432 with 1 Axes>"
            ]
          },
          "metadata": {
            "tags": []
          }
        }
      ]
    },
    {
      "cell_type": "markdown",
      "metadata": {
        "id": "ZLt1eEOYI32S"
      },
      "source": [
        "Propondo um novo modelo"
      ]
    },
    {
      "cell_type": "code",
      "metadata": {
        "id": "AJFSrOu9I32T"
      },
      "source": [
        "modelo_2 = smf.ols(data = experimento, formula = 'Porcoes ~   Farinha + Chocolate'    )"
      ],
      "execution_count": 30,
      "outputs": []
    },
    {
      "cell_type": "code",
      "metadata": {
        "id": "assJbp3BI32U"
      },
      "source": [
        "modelo_ajustado_2 = modelo_2.fit()"
      ],
      "execution_count": 31,
      "outputs": []
    },
    {
      "cell_type": "code",
      "metadata": {
        "id": "L0jLSF2WI32V",
        "outputId": "aee4db39-0024-4a84-fb80-4e0ad7faae56",
        "colab": {
          "base_uri": "https://localhost:8080/"
        }
      },
      "source": [
        "print(modelo_ajustado_2.summary()  )"
      ],
      "execution_count": 32,
      "outputs": [
        {
          "output_type": "stream",
          "text": [
            "                            OLS Regression Results                            \n",
            "==============================================================================\n",
            "Dep. Variable:                Porcoes   R-squared:                       0.950\n",
            "Model:                            OLS   Adj. R-squared:                  0.929\n",
            "Method:                 Least Squares   F-statistic:                     47.09\n",
            "Date:                Sun, 10 Jan 2021   Prob (F-statistic):           0.000571\n",
            "Time:                        17:20:16   Log-Likelihood:                -16.416\n",
            "No. Observations:                   8   AIC:                             38.83\n",
            "Df Residuals:                       5   BIC:                             39.07\n",
            "Df Model:                           2                                         \n",
            "Covariance Type:            nonrobust                                         \n",
            "==============================================================================\n",
            "                 coef    std err          t      P>|t|      [0.025      0.975]\n",
            "------------------------------------------------------------------------------\n",
            "Intercept     30.8750      0.842     36.658      0.000      28.710      33.040\n",
            "Farinha       10.7500      1.191      9.025      0.000       7.688      13.812\n",
            "Chocolate      4.2500      1.191      3.568      0.016       1.188       7.312\n",
            "==============================================================================\n",
            "Omnibus:                        2.106   Durbin-Watson:                   1.850\n",
            "Prob(Omnibus):                  0.349   Jarque-Bera (JB):                1.245\n",
            "Skew:                           0.868   Prob(JB):                        0.537\n",
            "Kurtosis:                       2.153   Cond. No.                         1.41\n",
            "==============================================================================\n",
            "\n",
            "Warnings:\n",
            "[1] Standard Errors assume that the covariance matrix of the errors is correctly specified.\n"
          ],
          "name": "stdout"
        },
        {
          "output_type": "stream",
          "text": [
            "/usr/local/lib/python3.6/dist-packages/scipy/stats/stats.py:1535: UserWarning: kurtosistest only valid for n>=20 ... continuing anyway, n=8\n",
            "  \"anyway, n=%i\" % int(n))\n"
          ],
          "name": "stderr"
        }
      ]
    },
    {
      "cell_type": "markdown",
      "metadata": {
        "id": "p1PDiSNsI32W"
      },
      "source": [
        "Gráfico Padronizado de Pareto do novo modelo"
      ]
    },
    {
      "cell_type": "code",
      "metadata": {
        "id": "_9Q2o4BtI32W",
        "outputId": "e1800ab7-f502-4b1c-eb48-414a9904ce52",
        "colab": {
          "base_uri": "https://localhost:8080/"
        }
      },
      "source": [
        "t_valores = modelo_ajustado_2.tvalues\r\n",
        "t_valores"
      ],
      "execution_count": 33,
      "outputs": [
        {
          "output_type": "execute_result",
          "data": {
            "text/plain": [
              "Intercept    36.658022\n",
              "Farinha       9.025173\n",
              "Chocolate     3.568092\n",
              "dtype: float64"
            ]
          },
          "metadata": {
            "tags": []
          },
          "execution_count": 33
        }
      ]
    },
    {
      "cell_type": "code",
      "metadata": {
        "id": "eVPQ6phcI32X",
        "outputId": "e593bdc2-8372-454c-f59b-2d9fd2818d4c",
        "colab": {
          "base_uri": "https://localhost:8080/"
        }
      },
      "source": [
        "nome = t_valores.index.tolist()\r\n",
        "nome"
      ],
      "execution_count": 34,
      "outputs": [
        {
          "output_type": "execute_result",
          "data": {
            "text/plain": [
              "['Intercept', 'Farinha', 'Chocolate']"
            ]
          },
          "metadata": {
            "tags": []
          },
          "execution_count": 34
        }
      ]
    },
    {
      "cell_type": "code",
      "metadata": {
        "id": "__yv3GPiI32Y",
        "outputId": "acf3eeee-f043-432f-a97d-7a6d70854a10",
        "colab": {
          "base_uri": "https://localhost:8080/"
        }
      },
      "source": [
        "distribuicao = stats.t(df = 5)\r\n",
        "distribuicao.ppf(q = 1 - 0.025)"
      ],
      "execution_count": 35,
      "outputs": [
        {
          "output_type": "execute_result",
          "data": {
            "text/plain": [
              "2.5705818366147395"
            ]
          },
          "metadata": {
            "tags": []
          },
          "execution_count": 35
        }
      ]
    },
    {
      "cell_type": "code",
      "metadata": {
        "id": "W4itn1SvI32Y",
        "outputId": "e2c765e8-b71c-487f-e653-f9e489c5d456",
        "colab": {
          "base_uri": "https://localhost:8080/"
        }
      },
      "source": [
        "limite = [distribuicao.ppf(q = 1 - 0.025    )]*len(nome)\n",
        "limite"
      ],
      "execution_count": 36,
      "outputs": [
        {
          "output_type": "execute_result",
          "data": {
            "text/plain": [
              "[2.5705818366147395, 2.5705818366147395, 2.5705818366147395]"
            ]
          },
          "metadata": {
            "tags": []
          },
          "execution_count": 36
        }
      ]
    },
    {
      "cell_type": "markdown",
      "metadata": {
        "id": "qAoz4rnbI32Z"
      },
      "source": [
        "### Plotando o gráfico"
      ]
    },
    {
      "cell_type": "code",
      "metadata": {
        "id": "4CWGMrzzI32Z",
        "outputId": "1f9f6ba2-1e77-4e32-f35d-cffa914e9276",
        "colab": {
          "base_uri": "https://localhost:8080/",
          "height": 422
        }
      },
      "source": [
        "pareto = sns.barplot(x = t_valores, y = nome)\n",
        "\n",
        "pareto.figure.set_size_inches(15,6)\n",
        "\n",
        "pareto.tick_params(labelsize = 20)\n",
        "\n",
        "pareto.set_xlabel('t-valor', fontsize = 20)\n",
        "\n",
        "\n",
        "pareto.plot(limite, nome, 'r')\n",
        "\n"
      ],
      "execution_count": 37,
      "outputs": [
        {
          "output_type": "execute_result",
          "data": {
            "text/plain": [
              "[<matplotlib.lines.Line2D at 0x7fb552c496d8>]"
            ]
          },
          "metadata": {
            "tags": []
          },
          "execution_count": 37
        },
        {
          "output_type": "display_data",
          "data": {
            "image/png": "[encoded data removed]",
            "text/plain": [
              "<Figure size 1080x432 with 1 Axes>"
            ]
          },
          "metadata": {
            "tags": []
          }
        }
      ]
    },
    {
      "cell_type": "markdown",
      "metadata": {
        "id": "53HdccHPI32a"
      },
      "source": [
        "Preditos por observados"
      ]
    },
    {
      "cell_type": "code",
      "metadata": {
        "id": "Rkiqs9khI32a",
        "outputId": "2f069a32-6bef-4c96-a4e1-b55b8e68aa46",
        "colab": {
          "base_uri": "https://localhost:8080/"
        }
      },
      "source": [
        "observados = experimento['Porcoes']\r\n",
        "observados"
      ],
      "execution_count": 38,
      "outputs": [
        {
          "output_type": "execute_result",
          "data": {
            "text/plain": [
              "0    19\n",
              "1    37\n",
              "2    24\n",
              "3    49\n",
              "4    29\n",
              "5    30\n",
              "6    29\n",
              "7    30\n",
              "Name: Porcoes, dtype: int64"
            ]
          },
          "metadata": {
            "tags": []
          },
          "execution_count": 38
        }
      ]
    },
    {
      "cell_type": "code",
      "metadata": {
        "id": "4SRzDdimI32b",
        "outputId": "76db7a73-4779-4d9a-a3c4-d400922d8843",
        "colab": {
          "base_uri": "https://localhost:8080/"
        }
      },
      "source": [
        "preditos = modelo_ajustado_2.predict()\r\n",
        "preditos"
      ],
      "execution_count": 39,
      "outputs": [
        {
          "output_type": "execute_result",
          "data": {
            "text/plain": [
              "array([15.875, 37.375, 24.375, 45.875, 30.875, 30.875, 30.875, 30.875])"
            ]
          },
          "metadata": {
            "tags": []
          },
          "execution_count": 39
        }
      ]
    },
    {
      "cell_type": "code",
      "metadata": {
        "id": "CS6Vj7iyI32c"
      },
      "source": [
        "import matplotlib.pyplot as plt"
      ],
      "execution_count": 40,
      "outputs": []
    },
    {
      "cell_type": "code",
      "metadata": {
        "id": "Lxij_T7kI32c",
        "outputId": "a37bc6b8-4c6b-4657-88d8-77142ac90470",
        "colab": {
          "base_uri": "https://localhost:8080/",
          "height": 355
        }
      },
      "source": [
        "plt.figure(figsize = (10,5))\n",
        "\n",
        "plt.xlabel('Preditos', fontsize = 16)\n",
        "\n",
        "plt.ylabel('Observados', fontsize = 16)\n",
        "\n",
        "\n",
        "#linha de guia\n",
        "\n",
        "x = np.linspace(start = 15, stop = 50, num = 10      )\n",
        "\n",
        "\n",
        "y = np.linspace(start = 15, stop = 50, num = 10)\n",
        "\n",
        "\n",
        "plt.plot(x,y, 'r')\n",
        "\n",
        "\n",
        "#comparacao \n",
        "\n",
        "plt.scatter(preditos, observados)"
      ],
      "execution_count": 41,
      "outputs": [
        {
          "output_type": "execute_result",
          "data": {
            "text/plain": [
              "<matplotlib.collections.PathCollection at 0x7fb552b804e0>"
            ]
          },
          "metadata": {
            "tags": []
          },
          "execution_count": 41
        },
        {
          "output_type": "display_data",
          "data": {
            "image/png": "[encoded data removed]",
            "text/plain": [
              "<Figure size 720x360 with 1 Axes>"
            ]
          },
          "metadata": {
            "tags": []
          }
        }
      ]
    },
    {
      "cell_type": "markdown",
      "metadata": {
        "id": "mVG64xAFI32c"
      },
      "source": [
        "<hr>"
      ]
    },
    {
      "cell_type": "code",
      "metadata": {
        "id": "LkZKLh4AI32d",
        "outputId": "90d2acbe-74c7-4e36-baa3-782d6f361a22",
        "colab": {
          "base_uri": "https://localhost:8080/"
        }
      },
      "source": [
        "print(modelo_ajustado_2.summary())"
      ],
      "execution_count": 42,
      "outputs": [
        {
          "output_type": "stream",
          "text": [
            "                            OLS Regression Results                            \n",
            "==============================================================================\n",
            "Dep. Variable:                Porcoes   R-squared:                       0.950\n",
            "Model:                            OLS   Adj. R-squared:                  0.929\n",
            "Method:                 Least Squares   F-statistic:                     47.09\n",
            "Date:                Sun, 10 Jan 2021   Prob (F-statistic):           0.000571\n",
            "Time:                        17:20:16   Log-Likelihood:                -16.416\n",
            "No. Observations:                   8   AIC:                             38.83\n",
            "Df Residuals:                       5   BIC:                             39.07\n",
            "Df Model:                           2                                         \n",
            "Covariance Type:            nonrobust                                         \n",
            "==============================================================================\n",
            "                 coef    std err          t      P>|t|      [0.025      0.975]\n",
            "------------------------------------------------------------------------------\n",
            "Intercept     30.8750      0.842     36.658      0.000      28.710      33.040\n",
            "Farinha       10.7500      1.191      9.025      0.000       7.688      13.812\n",
            "Chocolate      4.2500      1.191      3.568      0.016       1.188       7.312\n",
            "==============================================================================\n",
            "Omnibus:                        2.106   Durbin-Watson:                   1.850\n",
            "Prob(Omnibus):                  0.349   Jarque-Bera (JB):                1.245\n",
            "Skew:                           0.868   Prob(JB):                        0.537\n",
            "Kurtosis:                       2.153   Cond. No.                         1.41\n",
            "==============================================================================\n",
            "\n",
            "Warnings:\n",
            "[1] Standard Errors assume that the covariance matrix of the errors is correctly specified.\n"
          ],
          "name": "stdout"
        },
        {
          "output_type": "stream",
          "text": [
            "/usr/local/lib/python3.6/dist-packages/scipy/stats/stats.py:1535: UserWarning: kurtosistest only valid for n>=20 ... continuing anyway, n=8\n",
            "  \"anyway, n=%i\" % int(n))\n"
          ],
          "name": "stderr"
        }
      ]
    },
    {
      "cell_type": "markdown",
      "metadata": {
        "id": "aQK2MFw1I32d"
      },
      "source": [
        "Explorando o modelo "
      ]
    },
    {
      "cell_type": "code",
      "metadata": {
        "id": "yLXsMjX2I32d",
        "outputId": "ae080747-e311-4030-a47c-402b6a336c8e",
        "colab": {
          "base_uri": "https://localhost:8080/"
        }
      },
      "source": [
        "parametros = modelo_ajustado_2.params\r\n",
        "parametros"
      ],
      "execution_count": 43,
      "outputs": [
        {
          "output_type": "execute_result",
          "data": {
            "text/plain": [
              "Intercept    30.875\n",
              "Farinha      10.750\n",
              "Chocolate     4.250\n",
              "dtype: float64"
            ]
          },
          "metadata": {
            "tags": []
          },
          "execution_count": 43
        }
      ]
    },
    {
      "cell_type": "markdown",
      "metadata": {
        "id": "iXYIe4hqI32e"
      },
      "source": [
        "### Definindo a função"
      ]
    },
    {
      "cell_type": "code",
      "metadata": {
        "id": "GnplZfezI32f"
      },
      "source": [
        "def modelo_receita(x_f, x_c):\n",
        "    \n",
        "    #limite\n",
        "    \n",
        "    limite_normalizado = [-1,+1]\n",
        "    \n",
        "    limite_farinha = [0.5,1.5]\n",
        "    \n",
        "    limite_chocolate = [0.1,0.5]\n",
        "    \n",
        "    \n",
        "    #Converter \n",
        "    x_f_convertido = np.interp(x_f, limite_farinha, limite_normalizado)    \n",
        "    x_c_convertido = np.interp(x_c, limite_chocolate, limite_normalizado)\n",
        "       \n",
        "  \n",
        "    porcoes = parametros['Intercept'] + parametros['Farinha']*x_f_convertido  + parametros['Chocolate']*x_c_convertido   \n",
        "    \n",
        "    return round(porcoes)"
      ],
      "execution_count": 44,
      "outputs": []
    },
    {
      "cell_type": "code",
      "metadata": {
        "id": "aFBoUGHQI32f",
        "outputId": "bb7a68c8-1285-4d03-912c-116582849f59",
        "colab": {
          "base_uri": "https://localhost:8080/"
        }
      },
      "source": [
        "modelo_receita(0.6,0.1)"
      ],
      "execution_count": 45,
      "outputs": [
        {
          "output_type": "execute_result",
          "data": {
            "text/plain": [
              "18"
            ]
          },
          "metadata": {
            "tags": []
          },
          "execution_count": 45
        }
      ]
    },
    {
      "cell_type": "markdown",
      "metadata": {
        "id": "fXaDozOpI32g"
      },
      "source": [
        "Mapa de cores"
      ]
    },
    {
      "cell_type": "code",
      "metadata": {
        "id": "6uYoAJjgI32g",
        "outputId": "00eadb58-0245-4f6d-9e01-eb4ae4fc83bc",
        "colab": {
          "base_uri": "https://localhost:8080/"
        }
      },
      "source": [
        "x_farinha = np.linspace(start = 0.5, stop = 1.5, num = 10)\n",
        "x_farinha"
      ],
      "execution_count": 46,
      "outputs": [
        {
          "output_type": "execute_result",
          "data": {
            "text/plain": [
              "array([0.5       , 0.61111111, 0.72222222, 0.83333333, 0.94444444,\n",
              "       1.05555556, 1.16666667, 1.27777778, 1.38888889, 1.5       ])"
            ]
          },
          "metadata": {
            "tags": []
          },
          "execution_count": 46
        }
      ]
    },
    {
      "cell_type": "code",
      "metadata": {
        "id": "oEwPMu8HI32h",
        "outputId": "3b1dccb2-1918-4233-d243-f3cd21e47b44",
        "colab": {
          "base_uri": "https://localhost:8080/"
        }
      },
      "source": [
        "x_chocolate = np.linspace(start = 0.1, stop = 0.5, num = 10  )\n",
        "x_chocolate"
      ],
      "execution_count": 47,
      "outputs": [
        {
          "output_type": "execute_result",
          "data": {
            "text/plain": [
              "array([0.1       , 0.14444444, 0.18888889, 0.23333333, 0.27777778,\n",
              "       0.32222222, 0.36666667, 0.41111111, 0.45555556, 0.5       ])"
            ]
          },
          "metadata": {
            "tags": []
          },
          "execution_count": 47
        }
      ]
    },
    {
      "cell_type": "code",
      "metadata": {
        "id": "FSIsRbuVI32h",
        "outputId": "162797cd-c028-4f4c-ac51-d41ca6412c68",
        "colab": {
          "base_uri": "https://localhost:8080/"
        }
      },
      "source": [
        "pontos = []\n",
        "\n",
        "for cont1 in x_farinha:    \n",
        "    temp = []\n",
        "    \n",
        "    for cont2 in x_chocolate:        \n",
        "        temp.append(modelo_receita(cont1, cont2   ))\n",
        "        \n",
        "    pontos.append(temp)    \n",
        "\n",
        "pontos"
      ],
      "execution_count": 48,
      "outputs": [
        {
          "output_type": "execute_result",
          "data": {
            "text/plain": [
              "[[16, 17, 18, 19, 20, 21, 22, 22, 23, 24],\n",
              " [18, 19, 20, 21, 22, 23, 24, 25, 26, 27],\n",
              " [21, 22, 23, 23, 24, 25, 26, 27, 28, 29],\n",
              " [23, 24, 25, 26, 27, 28, 29, 30, 31, 32],\n",
              " [25, 26, 27, 28, 29, 30, 31, 32, 33, 34],\n",
              " [28, 29, 30, 31, 32, 33, 33, 34, 35, 36],\n",
              " [30, 31, 32, 33, 34, 35, 36, 37, 38, 39],\n",
              " [33, 34, 34, 35, 36, 37, 38, 39, 40, 41],\n",
              " [35, 36, 37, 38, 39, 40, 41, 42, 43, 43],\n",
              " [37, 38, 39, 40, 41, 42, 43, 44, 45, 46]]"
            ]
          },
          "metadata": {
            "tags": []
          },
          "execution_count": 48
        }
      ]
    },
    {
      "cell_type": "markdown",
      "metadata": {
        "id": "Zo-Vbb_BI32i"
      },
      "source": [
        "### Construindo a superfície de resposta"
      ]
    },
    {
      "cell_type": "code",
      "metadata": {
        "id": "ywjvkjkQI32i",
        "outputId": "ea8fa9d7-bb8e-4f51-e64b-ca0bddb045a1",
        "colab": {
          "base_uri": "https://localhost:8080/",
          "height": 388
        }
      },
      "source": [
        "import matplotlib.cm as cm \n",
        "\n",
        "#base\n",
        "\n",
        "plt.figure(figsize = (16,6))\n",
        "\n",
        "plt.xlabel('Farinha (kg)', fontsize = 16)\n",
        "\n",
        "plt.ylabel('Chocolate (kg)', fontsize = 16)\n",
        "\n",
        "\n",
        "#Mapa de cores \n",
        "\n",
        "mapa_cor = plt.imshow(pontos, origin = 'lower',  cmap = cm.rainbow, interpolation= 'quadric', extent = (0.5,1.5, 0.1,0.5))\n",
        "\n",
        "\n",
        "#Barra de cor\n",
        "\n",
        "plt.colorbar().set_label('Porcoes', fontsize = 16)\n",
        "\n",
        "\n",
        "#linha \n",
        "\n",
        "linhas = plt.contour(x_farinha, x_chocolate, pontos, colors = 'k', linewidths = 1.5)\n",
        "plt.clabel(linhas, inline = True, fmt = '%1.0f', fontsize = 15.0 , inline_spacing = 10)"
      ],
      "execution_count": 49,
      "outputs": [
        {
          "output_type": "execute_result",
          "data": {
            "text/plain": [
              "<a list of 7 text.Text objects>"
            ]
          },
          "metadata": {
            "tags": []
          },
          "execution_count": 49
        },
        {
          "output_type": "display_data",
          "data": {
            "image/png": "[encoded data removed]",
            "text/plain": [
              "<Figure size 1152x432 with 2 Axes>"
            ]
          },
          "metadata": {
            "tags": []
          }
        }
      ]
    }
  ]
}